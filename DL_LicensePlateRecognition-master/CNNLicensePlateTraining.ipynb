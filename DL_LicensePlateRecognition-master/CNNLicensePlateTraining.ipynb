{
  "nbformat": 4,
  "nbformat_minor": 0,
  "metadata": {
    "colab": {
      "name": "CNNLicensePlateTraining.ipynb",
      "provenance": [],
      "collapsed_sections": [],
      "mount_file_id": "1NDpeuGcmVEUxkyVEwQu5BIBIALWhJvKt",
      "authorship_tag": "ABX9TyMKe/eKy9Vhl/9DihPcu/Bv",
      "include_colab_link": true
    },
    "kernelspec": {
      "name": "python3",
      "display_name": "Python 3"
    },
    "accelerator": "GPU"
  },
  "cells": [
    {
      "cell_type": "markdown",
      "metadata": {
        "id": "view-in-github",
        "colab_type": "text"
      },
      "source": [
        "<a href=\"https://colab.research.google.com/github/monicasjsu/DL_LicensePlateRecognition/blob/master/CNNLicensePlateTraining.ipynb\" target=\"_parent\"><img src=\"https://colab.research.google.com/assets/colab-badge.svg\" alt=\"Open In Colab\"/></a>"
      ]
    },
    {
      "cell_type": "markdown",
      "metadata": {
        "id": "gBw8US0jbMkH",
        "colab_type": "text"
      },
      "source": [
        "### Connect to my drive to import data"
      ]
    },
    {
      "cell_type": "code",
      "metadata": {
        "id": "WPvzCVbQa32r",
        "colab_type": "code",
        "outputId": "44d2861f-e7b3-4bf8-eb85-7ef4a85555c1",
        "colab": {
          "base_uri": "https://localhost:8080/",
          "height": 139
        }
      },
      "source": [
        "%cd ..\n",
        "from google.colab import drive\n",
        "drive.mount('/content/gdrive')"
      ],
      "execution_count": 0,
      "outputs": [
        {
          "output_type": "stream",
          "text": [
            "/\n",
            "Go to this URL in a browser: https://accounts.google.com/o/oauth2/auth?client_id=947318989803-6bn6qk8qdgf4n4g3pfee6491hc0brc4i.apps.googleusercontent.com&redirect_uri=urn%3aietf%3awg%3aoauth%3a2.0%3aoob&response_type=code&scope=email%20https%3a%2f%2fwww.googleapis.com%2fauth%2fdocs.test%20https%3a%2f%2fwww.googleapis.com%2fauth%2fdrive%20https%3a%2f%2fwww.googleapis.com%2fauth%2fdrive.photos.readonly%20https%3a%2f%2fwww.googleapis.com%2fauth%2fpeopleapi.readonly\n",
            "\n",
            "Enter your authorization code:\n",
            "··········\n",
            "Mounted at /content/gdrive\n"
          ],
          "name": "stdout"
        }
      ]
    },
    {
      "cell_type": "markdown",
      "metadata": {
        "id": "h176wRntbJI4",
        "colab_type": "text"
      },
      "source": [
        "### Create Sym link for easy access of my drive and Check connection"
      ]
    },
    {
      "cell_type": "code",
      "metadata": {
        "id": "H8YV6XDFbIw6",
        "colab_type": "code",
        "colab": {}
      },
      "source": [
        "!ln -s /content/gdrive/My\\ Drive/ /mydrive\n",
        "!ls /mydrive"
      ],
      "execution_count": 0,
      "outputs": []
    },
    {
      "cell_type": "markdown",
      "metadata": {
        "id": "s1EUt_tUbsfn",
        "colab_type": "text"
      },
      "source": [
        "### Copy LicensePlateRecognition data zip to Colab"
      ]
    },
    {
      "cell_type": "code",
      "metadata": {
        "id": "nZLLhKeQbstm",
        "colab_type": "code",
        "outputId": "94d52b41-091b-4bfb-b672-878a0148eccd",
        "colab": {
          "base_uri": "https://localhost:8080/",
          "height": 34
        }
      },
      "source": [
        "!ls /mydrive/LicensePlate\n",
        "\n",
        "!cp /mydrive/LicensePlate/Dl_LicensePlateRecognition.zip ../\n"
      ],
      "execution_count": 0,
      "outputs": [
        {
          "output_type": "stream",
          "text": [
            "cnn_train.py  Dl_LicensePlateRecognition.zip\n"
          ],
          "name": "stdout"
        }
      ]
    },
    {
      "cell_type": "markdown",
      "metadata": {
        "id": "Awm5U8HScxXo",
        "colab_type": "text"
      },
      "source": [
        "### Extracting zip to Colab machine under license folder"
      ]
    },
    {
      "cell_type": "code",
      "metadata": {
        "id": "RDVzme99dSg9",
        "colab_type": "code",
        "colab": {}
      },
      "source": [
        "!unzip ../Dl_LicensePlateRecognition.zip -d license/"
      ],
      "execution_count": 0,
      "outputs": []
    },
    {
      "cell_type": "markdown",
      "metadata": {
        "id": "-k9N68J5iH96",
        "colab_type": "text"
      },
      "source": [
        "# **Training the CNN model**"
      ]
    },
    {
      "cell_type": "markdown",
      "metadata": {
        "id": "9WdSzAQep5-X",
        "colab_type": "text"
      },
      "source": [
        "## Python Imports"
      ]
    },
    {
      "cell_type": "code",
      "metadata": {
        "id": "mKu-tHPLp6J_",
        "colab_type": "code",
        "colab": {}
      },
      "source": [
        "import glob\n",
        "import numpy as np\n",
        "import os\n",
        "from PIL import Image\n",
        "from tensorflow.keras import layers, models\n",
        "from sklearn.model_selection import train_test_split\n",
        "from tensorflow.keras.optimizers import Adam"
      ],
      "execution_count": 0,
      "outputs": []
    },
    {
      "cell_type": "markdown",
      "metadata": {
        "id": "wDYAIUQyoiLB",
        "colab_type": "text"
      },
      "source": [
        "**Get Character Image Data**"
      ]
    },
    {
      "cell_type": "code",
      "metadata": {
        "id": "hqYAXcoNoiSX",
        "colab_type": "code",
        "colab": {}
      },
      "source": [
        "dictionary = {'0': 0, '1': 1, '2': 2, '3': 3, '4': 4, '5': 5, '6': 6, '7': 7, '8': 8, '9': 9,\n",
        "              'A': 10, 'B': 11, 'C': 12, 'D': 13, 'E': 14, 'F': 15, 'G': 16, 'H': 17, 'I': 18,\n",
        "              'J': 19, 'K': 20, 'L': 21, 'M': 22, 'N': 23, 'P': 24, 'Q': 25, 'R': 26, 'S': 27,\n",
        "              'T': 28, 'U': 29, 'V': 30, 'W': 31, 'X': 32, 'Y': 33, 'Z': 34}\n",
        "\n",
        "def get_char_data():\n",
        "    # All our image characters are in the size of 100x75 \n",
        "    # Each alpha number characters has a folder that has hundresds of images \n",
        "    data = np.array([]).reshape(0, 100, 75)\n",
        "    labels = np.array([])\n",
        "    # Walking through all the directorires to fetch the image data.\n",
        "    dirs = [i[0] for i in os.walk('/license/Dl_LicensePlateRecognition/CNN_CharacterRecognition/dataset')][1:]\n",
        "    for dir in dirs:\n",
        "        image_file_list = glob.glob(dir + '/*.jpg')\n",
        "        sub_data = np.array([np.array(Image.open(file_name)) for file_name in image_file_list])\n",
        "        data = np.append(data, sub_data, axis = 0)\n",
        "        sub_labels = [dictionary[dir[-1:]]] * len(sub_data)\n",
        "        labels = np.append(labels, sub_labels, axis = 0)\n",
        "    x_train, x_test, y_train, y_test = train_test_split(data, labels, test_size = 0.2, random_state = 45, shuffle = True)\n",
        "    return (x_train, y_train), (x_test, y_test)\n"
      ],
      "execution_count": 0,
      "outputs": []
    },
    {
      "cell_type": "markdown",
      "metadata": {
        "id": "41GkXsYj5Gr1",
        "colab_type": "text"
      },
      "source": [
        "**Making Character Image Train and Test dataset**"
      ]
    },
    {
      "cell_type": "code",
      "metadata": {
        "id": "zcO_QAoVsqY5",
        "colab_type": "code",
        "colab": {}
      },
      "source": [
        "(x_train, y_train), (x_test, y_test) = get_char_data()\n",
        "x_train = x_train.reshape((x_train.shape[0], 100, 75, 1))\n",
        "x_test = x_test.reshape((x_test.shape[0], 100, 75, 1))\n",
        "# pixel range is from 0 - 255\n",
        "x_train, x_test = x_train / 255.0, x_test / 255.0"
      ],
      "execution_count": 0,
      "outputs": []
    },
    {
      "cell_type": "markdown",
      "metadata": {
        "id": "ZaLGxDNwpZWg",
        "colab_type": "text"
      },
      "source": [
        "**Defining the CNN Model**"
      ]
    },
    {
      "cell_type": "code",
      "metadata": {
        "id": "RKAd7wPrpZdg",
        "colab_type": "code",
        "colab": {}
      },
      "source": [
        "def cnn_model():\n",
        "    cnn_model = models.Sequential()\n",
        "    cnn_model.add(layers.Conv2D(32, (3, 3), padding = 'same', activation = 'relu', input_shape = (100, 75, 1)))\n",
        "    cnn_model.add(layers.MaxPooling2D((2, 2)))\n",
        "    cnn_model.add(layers.Conv2D(64, (3, 3), activation = 'relu'))\n",
        "    cnn_model.add(layers.MaxPooling2D((2, 2)))\n",
        "    cnn_model.add(layers.Conv2D(128, (3, 3), activation = 'relu'))\n",
        "    cnn_model.add(layers.MaxPooling2D((2, 2)))\n",
        "    cnn_model.add(layers.Dense(128, activation = 'relu'))\n",
        "    cnn_model.add(layers.Flatten())\n",
        "    # 0 - 9 and A-Z => 10 + 25 = 35  -- ignoring O in alphabets.\n",
        "    cnn_model.add(layers.Dense(35, activation = 'softmax'))\n",
        "    cnn_model.summary()\n",
        "    return cnn_model"
      ],
      "execution_count": 0,
      "outputs": []
    },
    {
      "cell_type": "markdown",
      "metadata": {
        "id": "EhsCKwSLphyO",
        "colab_type": "text"
      },
      "source": [
        "**Training the CNN Model**"
      ]
    },
    {
      "cell_type": "code",
      "metadata": {
        "id": "jQHVh-ppph5q",
        "colab_type": "code",
        "outputId": "68d6ab99-ae73-4506-b9bd-75caf77e0852",
        "colab": {
          "base_uri": "https://localhost:8080/",
          "height": 34
        }
      },
      "source": [
        "import tensorflow as tf \n",
        "tf.test.gpu_device_name() "
      ],
      "execution_count": 0,
      "outputs": [
        {
          "output_type": "execute_result",
          "data": {
            "text/plain": [
              "'/device:GPU:0'"
            ]
          },
          "metadata": {
            "tags": []
          },
          "execution_count": 16
        }
      ]
    },
    {
      "cell_type": "code",
      "metadata": {
        "id": "k0Te2j5n0MjJ",
        "colab_type": "code",
        "outputId": "ba524ad5-668d-43f0-a019-e64eaf1a4fec",
        "colab": {
          "base_uri": "https://localhost:8080/",
          "height": 1000
        }
      },
      "source": [
        "\n",
        "model = cnn_model()\n",
        "opt = Adam(lr = 0.001)\n",
        "model.compile(optimizer = opt, loss = tf.keras.losses.sparse_categorical_crossentropy, metrics = ['accuracy'])\n",
        "history=model.fit(x_train, y_train, validation_split=0.1, epochs=15, batch_size=3, verbose=1)\n",
        "test_loss, test_acc = model.evaluate(x_test, y_test)\n",
        "print(test_acc)\n",
        "model.save(\"cnn_char_recognition.h5\")"
      ],
      "execution_count": 0,
      "outputs": [
        {
          "output_type": "stream",
          "text": [
            "Model: \"sequential\"\n",
            "_________________________________________________________________\n",
            "Layer (type)                 Output Shape              Param #   \n",
            "=================================================================\n",
            "conv2d (Conv2D)              (None, 100, 75, 32)       320       \n",
            "_________________________________________________________________\n",
            "max_pooling2d (MaxPooling2D) (None, 50, 37, 32)        0         \n",
            "_________________________________________________________________\n",
            "conv2d_1 (Conv2D)            (None, 48, 35, 64)        18496     \n",
            "_________________________________________________________________\n",
            "max_pooling2d_1 (MaxPooling2 (None, 24, 17, 64)        0         \n",
            "_________________________________________________________________\n",
            "conv2d_2 (Conv2D)            (None, 22, 15, 128)       73856     \n",
            "_________________________________________________________________\n",
            "max_pooling2d_2 (MaxPooling2 (None, 11, 7, 128)        0         \n",
            "_________________________________________________________________\n",
            "dense (Dense)                (None, 11, 7, 128)        16512     \n",
            "_________________________________________________________________\n",
            "flatten (Flatten)            (None, 9856)              0         \n",
            "_________________________________________________________________\n",
            "dense_1 (Dense)              (None, 35)                344995    \n",
            "=================================================================\n",
            "Total params: 454,179\n",
            "Trainable params: 454,179\n",
            "Non-trainable params: 0\n",
            "_________________________________________________________________\n",
            "Epoch 1/15\n",
            "8520/8520 [==============================] - 25s 3ms/step - loss: 0.3009 - accuracy: 0.9137 - val_loss: 0.0541 - val_accuracy: 0.9831\n",
            "Epoch 2/15\n",
            "8520/8520 [==============================] - 25s 3ms/step - loss: 0.0355 - accuracy: 0.9895 - val_loss: 0.0455 - val_accuracy: 0.9877\n",
            "Epoch 3/15\n",
            "8520/8520 [==============================] - 24s 3ms/step - loss: 0.0193 - accuracy: 0.9947 - val_loss: 0.0322 - val_accuracy: 0.9937\n",
            "Epoch 4/15\n",
            "8520/8520 [==============================] - 24s 3ms/step - loss: 0.0144 - accuracy: 0.9964 - val_loss: 0.0136 - val_accuracy: 0.9968\n",
            "Epoch 5/15\n",
            "8520/8520 [==============================] - 24s 3ms/step - loss: 0.0140 - accuracy: 0.9963 - val_loss: 0.0129 - val_accuracy: 0.9961\n",
            "Epoch 6/15\n",
            "8520/8520 [==============================] - 24s 3ms/step - loss: 0.0079 - accuracy: 0.9978 - val_loss: 0.0084 - val_accuracy: 0.9982\n",
            "Epoch 7/15\n",
            "8520/8520 [==============================] - 24s 3ms/step - loss: 0.0103 - accuracy: 0.9977 - val_loss: 0.0278 - val_accuracy: 0.9951\n",
            "Epoch 8/15\n",
            "8520/8520 [==============================] - 24s 3ms/step - loss: 0.0054 - accuracy: 0.9987 - val_loss: 0.0125 - val_accuracy: 0.9975\n",
            "Epoch 9/15\n",
            "8520/8520 [==============================] - 24s 3ms/step - loss: 0.0065 - accuracy: 0.9985 - val_loss: 0.0197 - val_accuracy: 0.9961\n",
            "Epoch 10/15\n",
            "8520/8520 [==============================] - 24s 3ms/step - loss: 0.0066 - accuracy: 0.9987 - val_loss: 0.0219 - val_accuracy: 0.9965\n",
            "Epoch 11/15\n",
            "8520/8520 [==============================] - 24s 3ms/step - loss: 0.0045 - accuracy: 0.9992 - val_loss: 0.0486 - val_accuracy: 0.9912\n",
            "Epoch 12/15\n",
            "8520/8520 [==============================] - 24s 3ms/step - loss: 0.0030 - accuracy: 0.9997 - val_loss: 0.0115 - val_accuracy: 0.9982\n",
            "Epoch 13/15\n",
            "8520/8520 [==============================] - 24s 3ms/step - loss: 0.0060 - accuracy: 0.9990 - val_loss: 0.0097 - val_accuracy: 0.9989\n",
            "Epoch 14/15\n",
            "8520/8520 [==============================] - 25s 3ms/step - loss: 0.0061 - accuracy: 0.9988 - val_loss: 0.0227 - val_accuracy: 0.9972\n",
            "Epoch 15/15\n",
            "8520/8520 [==============================] - 24s 3ms/step - loss: 0.0098 - accuracy: 0.9986 - val_loss: 0.0227 - val_accuracy: 0.9968\n",
            "222/222 [==============================] - 1s 4ms/step - loss: 0.0287 - accuracy: 0.9970\n",
            "0.9970422387123108\n"
          ],
          "name": "stdout"
        }
      ]
    },
    {
      "cell_type": "markdown",
      "metadata": {
        "id": "Vd-dW99a6E82",
        "colab_type": "text"
      },
      "source": [
        "**Save the model to Google Drive**"
      ]
    },
    {
      "cell_type": "code",
      "metadata": {
        "colab_type": "code",
        "id": "gciiEDmK6Dn9",
        "colab": {}
      },
      "source": [
        "!cp /cnn_char_recognition.h5 /mydrive/LicensePlate/"
      ],
      "execution_count": 0,
      "outputs": []
    },
    {
      "cell_type": "markdown",
      "metadata": {
        "id": "h_eg3Icjprvj",
        "colab_type": "text"
      },
      "source": [
        "**Plots for Accuracy and Loss**"
      ]
    },
    {
      "cell_type": "code",
      "metadata": {
        "id": "LFdHRCySpr19",
        "colab_type": "code",
        "outputId": "d4d25f30-9095-495e-d7ac-099fb51459f3",
        "colab": {
          "base_uri": "https://localhost:8080/",
          "height": 573
        }
      },
      "source": [
        "import matplotlib.pyplot as plot\n",
        "\n",
        "# print(history.history.keys())\n",
        "\n",
        "# Accuracy\n",
        "plot.plot(history.history['accuracy'])\n",
        "plot.plot(history.history['val_accuracy'])\n",
        "plot.title('Model Accuracy')\n",
        "plot.ylabel('Accuracy')\n",
        "plot.xlabel('Epoch')\n",
        "plot.legend(['train', 'test'], loc='lower right')\n",
        "plot.show()\n",
        "# Loss\n",
        "plot.plot(history.history['loss'])\n",
        "plot.plot(history.history['val_loss'])\n",
        "plot.title('Model loss')\n",
        "plot.ylabel('Loss')\n",
        "plot.xlabel('Epoch')\n",
        "plot.legend(['train', 'test'], loc='upper right')\n",
        "plot.show()"
      ],
      "execution_count": 0,
      "outputs": [
        {
          "output_type": "display_data",
          "data": {
            "image/png": "[encoded data removed]",
            "text/plain": [
              "<Figure size 432x288 with 1 Axes>"
            ]
          },
          "metadata": {
            "tags": [],
            "needs_background": "light"
          }
        },
        {
          "output_type": "display_data",
          "data": {
            "image/png": "[encoded data removed]",
            "text/plain": [
              "<Figure size 432x288 with 1 Axes>"
            ]
          },
          "metadata": {
            "tags": [],
            "needs_background": "light"
          }
        }
      ]
    }
  ]
}